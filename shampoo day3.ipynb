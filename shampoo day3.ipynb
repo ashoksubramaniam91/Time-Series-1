{
 "cells": [
  {
   "cell_type": "code",
   "execution_count": 25,
   "metadata": {},
   "outputs": [],
   "source": [
    "import pandas as pd"
   ]
  },
  {
   "cell_type": "code",
   "execution_count": 26,
   "metadata": {},
   "outputs": [
    {
     "data": {
      "text/html": [
       "<div>\n",
       "<style scoped>\n",
       "    .dataframe tbody tr th:only-of-type {\n",
       "        vertical-align: middle;\n",
       "    }\n",
       "\n",
       "    .dataframe tbody tr th {\n",
       "        vertical-align: top;\n",
       "    }\n",
       "\n",
       "    .dataframe thead th {\n",
       "        text-align: right;\n",
       "    }\n",
       "</style>\n",
       "<table border=\"1\" class=\"dataframe\">\n",
       "  <thead>\n",
       "    <tr style=\"text-align: right;\">\n",
       "      <th></th>\n",
       "      <th>Month</th>\n",
       "      <th>Sales</th>\n",
       "    </tr>\n",
       "  </thead>\n",
       "  <tbody>\n",
       "    <tr>\n",
       "      <th>0</th>\n",
       "      <td>1-01</td>\n",
       "      <td>266.0</td>\n",
       "    </tr>\n",
       "    <tr>\n",
       "      <th>1</th>\n",
       "      <td>1-02</td>\n",
       "      <td>145.9</td>\n",
       "    </tr>\n",
       "    <tr>\n",
       "      <th>2</th>\n",
       "      <td>1-03</td>\n",
       "      <td>183.1</td>\n",
       "    </tr>\n",
       "    <tr>\n",
       "      <th>3</th>\n",
       "      <td>1-04</td>\n",
       "      <td>119.3</td>\n",
       "    </tr>\n",
       "    <tr>\n",
       "      <th>4</th>\n",
       "      <td>1-05</td>\n",
       "      <td>180.3</td>\n",
       "    </tr>\n",
       "  </tbody>\n",
       "</table>\n",
       "</div>"
      ],
      "text/plain": [
       "  Month  Sales\n",
       "0  1-01  266.0\n",
       "1  1-02  145.9\n",
       "2  1-03  183.1\n",
       "3  1-04  119.3\n",
       "4  1-05  180.3"
      ]
     },
     "execution_count": 26,
     "metadata": {},
     "output_type": "execute_result"
    }
   ],
   "source": [
    "a=pd.read_csv(\"shampoo-sales.csv\")\n",
    "a.head()"
   ]
  },
  {
   "cell_type": "code",
   "execution_count": null,
   "metadata": {},
   "outputs": [],
   "source": []
  },
  {
   "cell_type": "code",
   "execution_count": 27,
   "metadata": {},
   "outputs": [],
   "source": [
    "dates = pd.date_range(start='1901-01-01', freq='MS', periods=len(a))"
   ]
  },
  {
   "cell_type": "code",
   "execution_count": 28,
   "metadata": {},
   "outputs": [
    {
     "data": {
      "text/html": [
       "<div>\n",
       "<style scoped>\n",
       "    .dataframe tbody tr th:only-of-type {\n",
       "        vertical-align: middle;\n",
       "    }\n",
       "\n",
       "    .dataframe tbody tr th {\n",
       "        vertical-align: top;\n",
       "    }\n",
       "\n",
       "    .dataframe thead th {\n",
       "        text-align: right;\n",
       "    }\n",
       "</style>\n",
       "<table border=\"1\" class=\"dataframe\">\n",
       "  <thead>\n",
       "    <tr style=\"text-align: right;\">\n",
       "      <th></th>\n",
       "      <th>Month</th>\n",
       "      <th>Sales</th>\n",
       "      <th>TimeIndex</th>\n",
       "    </tr>\n",
       "  </thead>\n",
       "  <tbody>\n",
       "    <tr>\n",
       "      <th>0</th>\n",
       "      <td>1-01</td>\n",
       "      <td>266.0</td>\n",
       "      <td>1901-01-01</td>\n",
       "    </tr>\n",
       "    <tr>\n",
       "      <th>1</th>\n",
       "      <td>1-02</td>\n",
       "      <td>145.9</td>\n",
       "      <td>1901-02-01</td>\n",
       "    </tr>\n",
       "    <tr>\n",
       "      <th>2</th>\n",
       "      <td>1-03</td>\n",
       "      <td>183.1</td>\n",
       "      <td>1901-03-01</td>\n",
       "    </tr>\n",
       "    <tr>\n",
       "      <th>3</th>\n",
       "      <td>1-04</td>\n",
       "      <td>119.3</td>\n",
       "      <td>1901-04-01</td>\n",
       "    </tr>\n",
       "    <tr>\n",
       "      <th>4</th>\n",
       "      <td>1-05</td>\n",
       "      <td>180.3</td>\n",
       "      <td>1901-05-01</td>\n",
       "    </tr>\n",
       "  </tbody>\n",
       "</table>\n",
       "</div>"
      ],
      "text/plain": [
       "  Month  Sales  TimeIndex\n",
       "0  1-01  266.0 1901-01-01\n",
       "1  1-02  145.9 1901-02-01\n",
       "2  1-03  183.1 1901-03-01\n",
       "3  1-04  119.3 1901-04-01\n",
       "4  1-05  180.3 1901-05-01"
      ]
     },
     "execution_count": 28,
     "metadata": {},
     "output_type": "execute_result"
    }
   ],
   "source": [
    "a['TimeIndex'] = pd.DataFrame(dates, columns=['Year'])\n",
    "a.head(5)"
   ]
  },
  {
   "cell_type": "code",
   "execution_count": 29,
   "metadata": {},
   "outputs": [
    {
     "data": {
      "text/html": [
       "<div>\n",
       "<style scoped>\n",
       "    .dataframe tbody tr th:only-of-type {\n",
       "        vertical-align: middle;\n",
       "    }\n",
       "\n",
       "    .dataframe tbody tr th {\n",
       "        vertical-align: top;\n",
       "    }\n",
       "\n",
       "    .dataframe thead th {\n",
       "        text-align: right;\n",
       "    }\n",
       "</style>\n",
       "<table border=\"1\" class=\"dataframe\">\n",
       "  <thead>\n",
       "    <tr style=\"text-align: right;\">\n",
       "      <th></th>\n",
       "      <th>Month</th>\n",
       "      <th>Sales</th>\n",
       "      <th>TimeIndex</th>\n",
       "    </tr>\n",
       "  </thead>\n",
       "  <tbody>\n",
       "    <tr>\n",
       "      <th>31</th>\n",
       "      <td>3-08</td>\n",
       "      <td>407.6</td>\n",
       "      <td>1903-08-01</td>\n",
       "    </tr>\n",
       "    <tr>\n",
       "      <th>32</th>\n",
       "      <td>3-09</td>\n",
       "      <td>682.0</td>\n",
       "      <td>1903-09-01</td>\n",
       "    </tr>\n",
       "    <tr>\n",
       "      <th>33</th>\n",
       "      <td>3-10</td>\n",
       "      <td>475.3</td>\n",
       "      <td>1903-10-01</td>\n",
       "    </tr>\n",
       "    <tr>\n",
       "      <th>34</th>\n",
       "      <td>3-11</td>\n",
       "      <td>581.3</td>\n",
       "      <td>1903-11-01</td>\n",
       "    </tr>\n",
       "    <tr>\n",
       "      <th>35</th>\n",
       "      <td>3-12</td>\n",
       "      <td>646.9</td>\n",
       "      <td>1903-12-01</td>\n",
       "    </tr>\n",
       "  </tbody>\n",
       "</table>\n",
       "</div>"
      ],
      "text/plain": [
       "   Month  Sales  TimeIndex\n",
       "31  3-08  407.6 1903-08-01\n",
       "32  3-09  682.0 1903-09-01\n",
       "33  3-10  475.3 1903-10-01\n",
       "34  3-11  581.3 1903-11-01\n",
       "35  3-12  646.9 1903-12-01"
      ]
     },
     "execution_count": 29,
     "metadata": {},
     "output_type": "execute_result"
    }
   ],
   "source": [
    "a.tail()"
   ]
  },
  {
   "cell_type": "code",
   "execution_count": 6,
   "metadata": {},
   "outputs": [],
   "source": [
    "import calendar\n",
    "a['Month'] = dates.month\n",
    "a['Month'] = a['Month'].apply(lambda x: calendar.month_abbr[x])\n",
    "a['Year'] = dates.year"
   ]
  },
  {
   "cell_type": "code",
   "execution_count": 8,
   "metadata": {},
   "outputs": [],
   "source": [
    "a = a[['Month', 'Year', 'Sales']]"
   ]
  },
  {
   "cell_type": "code",
   "execution_count": 9,
   "metadata": {},
   "outputs": [
    {
     "data": {
      "text/html": [
       "<div>\n",
       "<style scoped>\n",
       "    .dataframe tbody tr th:only-of-type {\n",
       "        vertical-align: middle;\n",
       "    }\n",
       "\n",
       "    .dataframe tbody tr th {\n",
       "        vertical-align: top;\n",
       "    }\n",
       "\n",
       "    .dataframe thead th {\n",
       "        text-align: right;\n",
       "    }\n",
       "</style>\n",
       "<table border=\"1\" class=\"dataframe\">\n",
       "  <thead>\n",
       "    <tr style=\"text-align: right;\">\n",
       "      <th></th>\n",
       "      <th>Month</th>\n",
       "      <th>Year</th>\n",
       "      <th>Sales</th>\n",
       "    </tr>\n",
       "  </thead>\n",
       "  <tbody>\n",
       "    <tr>\n",
       "      <th>0</th>\n",
       "      <td>Jan</td>\n",
       "      <td>1901</td>\n",
       "      <td>266.0</td>\n",
       "    </tr>\n",
       "    <tr>\n",
       "      <th>1</th>\n",
       "      <td>Feb</td>\n",
       "      <td>1901</td>\n",
       "      <td>145.9</td>\n",
       "    </tr>\n",
       "    <tr>\n",
       "      <th>2</th>\n",
       "      <td>Mar</td>\n",
       "      <td>1901</td>\n",
       "      <td>183.1</td>\n",
       "    </tr>\n",
       "    <tr>\n",
       "      <th>3</th>\n",
       "      <td>Apr</td>\n",
       "      <td>1901</td>\n",
       "      <td>119.3</td>\n",
       "    </tr>\n",
       "    <tr>\n",
       "      <th>4</th>\n",
       "      <td>May</td>\n",
       "      <td>1901</td>\n",
       "      <td>180.3</td>\n",
       "    </tr>\n",
       "  </tbody>\n",
       "</table>\n",
       "</div>"
      ],
      "text/plain": [
       "  Month  Year  Sales\n",
       "0   Jan  1901  266.0\n",
       "1   Feb  1901  145.9\n",
       "2   Mar  1901  183.1\n",
       "3   Apr  1901  119.3\n",
       "4   May  1901  180.3"
      ]
     },
     "execution_count": 9,
     "metadata": {},
     "output_type": "execute_result"
    }
   ],
   "source": [
    "a.head()"
   ]
  },
  {
   "cell_type": "code",
   "execution_count": 53,
   "metadata": {},
   "outputs": [],
   "source": [
    "a=a.set_index(dates)"
   ]
  },
  {
   "cell_type": "code",
   "execution_count": 54,
   "metadata": {},
   "outputs": [
    {
     "data": {
      "text/html": [
       "<div>\n",
       "<style scoped>\n",
       "    .dataframe tbody tr th:only-of-type {\n",
       "        vertical-align: middle;\n",
       "    }\n",
       "\n",
       "    .dataframe tbody tr th {\n",
       "        vertical-align: top;\n",
       "    }\n",
       "\n",
       "    .dataframe thead th {\n",
       "        text-align: right;\n",
       "    }\n",
       "</style>\n",
       "<table border=\"1\" class=\"dataframe\">\n",
       "  <thead>\n",
       "    <tr style=\"text-align: right;\">\n",
       "      <th></th>\n",
       "      <th>Month</th>\n",
       "      <th>Sales</th>\n",
       "      <th>TimeIndex</th>\n",
       "    </tr>\n",
       "  </thead>\n",
       "  <tbody>\n",
       "    <tr>\n",
       "      <th>1901-01-01</th>\n",
       "      <td>1-01</td>\n",
       "      <td>266.0</td>\n",
       "      <td>1901-01-01</td>\n",
       "    </tr>\n",
       "    <tr>\n",
       "      <th>1901-02-01</th>\n",
       "      <td>1-02</td>\n",
       "      <td>145.9</td>\n",
       "      <td>1901-02-01</td>\n",
       "    </tr>\n",
       "    <tr>\n",
       "      <th>1901-03-01</th>\n",
       "      <td>1-03</td>\n",
       "      <td>183.1</td>\n",
       "      <td>1901-03-01</td>\n",
       "    </tr>\n",
       "    <tr>\n",
       "      <th>1901-04-01</th>\n",
       "      <td>1-04</td>\n",
       "      <td>119.3</td>\n",
       "      <td>1901-04-01</td>\n",
       "    </tr>\n",
       "    <tr>\n",
       "      <th>1901-05-01</th>\n",
       "      <td>1-05</td>\n",
       "      <td>180.3</td>\n",
       "      <td>1901-05-01</td>\n",
       "    </tr>\n",
       "    <tr>\n",
       "      <th>1901-06-01</th>\n",
       "      <td>1-06</td>\n",
       "      <td>168.5</td>\n",
       "      <td>1901-06-01</td>\n",
       "    </tr>\n",
       "    <tr>\n",
       "      <th>1901-07-01</th>\n",
       "      <td>1-07</td>\n",
       "      <td>231.8</td>\n",
       "      <td>1901-07-01</td>\n",
       "    </tr>\n",
       "    <tr>\n",
       "      <th>1901-08-01</th>\n",
       "      <td>1-08</td>\n",
       "      <td>224.5</td>\n",
       "      <td>1901-08-01</td>\n",
       "    </tr>\n",
       "    <tr>\n",
       "      <th>1901-09-01</th>\n",
       "      <td>1-09</td>\n",
       "      <td>192.8</td>\n",
       "      <td>1901-09-01</td>\n",
       "    </tr>\n",
       "    <tr>\n",
       "      <th>1901-10-01</th>\n",
       "      <td>1-10</td>\n",
       "      <td>122.9</td>\n",
       "      <td>1901-10-01</td>\n",
       "    </tr>\n",
       "    <tr>\n",
       "      <th>1901-11-01</th>\n",
       "      <td>1-11</td>\n",
       "      <td>336.5</td>\n",
       "      <td>1901-11-01</td>\n",
       "    </tr>\n",
       "    <tr>\n",
       "      <th>1901-12-01</th>\n",
       "      <td>1-12</td>\n",
       "      <td>185.9</td>\n",
       "      <td>1901-12-01</td>\n",
       "    </tr>\n",
       "    <tr>\n",
       "      <th>1902-01-01</th>\n",
       "      <td>2-01</td>\n",
       "      <td>194.3</td>\n",
       "      <td>1902-01-01</td>\n",
       "    </tr>\n",
       "    <tr>\n",
       "      <th>1902-02-01</th>\n",
       "      <td>2-02</td>\n",
       "      <td>149.5</td>\n",
       "      <td>1902-02-01</td>\n",
       "    </tr>\n",
       "    <tr>\n",
       "      <th>1902-03-01</th>\n",
       "      <td>2-03</td>\n",
       "      <td>210.1</td>\n",
       "      <td>1902-03-01</td>\n",
       "    </tr>\n",
       "    <tr>\n",
       "      <th>1902-04-01</th>\n",
       "      <td>2-04</td>\n",
       "      <td>273.3</td>\n",
       "      <td>1902-04-01</td>\n",
       "    </tr>\n",
       "    <tr>\n",
       "      <th>1902-05-01</th>\n",
       "      <td>2-05</td>\n",
       "      <td>191.4</td>\n",
       "      <td>1902-05-01</td>\n",
       "    </tr>\n",
       "    <tr>\n",
       "      <th>1902-06-01</th>\n",
       "      <td>2-06</td>\n",
       "      <td>287.0</td>\n",
       "      <td>1902-06-01</td>\n",
       "    </tr>\n",
       "    <tr>\n",
       "      <th>1902-07-01</th>\n",
       "      <td>2-07</td>\n",
       "      <td>226.0</td>\n",
       "      <td>1902-07-01</td>\n",
       "    </tr>\n",
       "    <tr>\n",
       "      <th>1902-08-01</th>\n",
       "      <td>2-08</td>\n",
       "      <td>303.6</td>\n",
       "      <td>1902-08-01</td>\n",
       "    </tr>\n",
       "    <tr>\n",
       "      <th>1902-09-01</th>\n",
       "      <td>2-09</td>\n",
       "      <td>289.9</td>\n",
       "      <td>1902-09-01</td>\n",
       "    </tr>\n",
       "    <tr>\n",
       "      <th>1902-10-01</th>\n",
       "      <td>2-10</td>\n",
       "      <td>421.6</td>\n",
       "      <td>1902-10-01</td>\n",
       "    </tr>\n",
       "    <tr>\n",
       "      <th>1902-11-01</th>\n",
       "      <td>2-11</td>\n",
       "      <td>264.5</td>\n",
       "      <td>1902-11-01</td>\n",
       "    </tr>\n",
       "    <tr>\n",
       "      <th>1902-12-01</th>\n",
       "      <td>2-12</td>\n",
       "      <td>342.3</td>\n",
       "      <td>1902-12-01</td>\n",
       "    </tr>\n",
       "    <tr>\n",
       "      <th>1903-01-01</th>\n",
       "      <td>3-01</td>\n",
       "      <td>339.7</td>\n",
       "      <td>1903-01-01</td>\n",
       "    </tr>\n",
       "    <tr>\n",
       "      <th>1903-02-01</th>\n",
       "      <td>3-02</td>\n",
       "      <td>440.4</td>\n",
       "      <td>1903-02-01</td>\n",
       "    </tr>\n",
       "    <tr>\n",
       "      <th>1903-03-01</th>\n",
       "      <td>3-03</td>\n",
       "      <td>315.9</td>\n",
       "      <td>1903-03-01</td>\n",
       "    </tr>\n",
       "    <tr>\n",
       "      <th>1903-04-01</th>\n",
       "      <td>3-04</td>\n",
       "      <td>439.3</td>\n",
       "      <td>1903-04-01</td>\n",
       "    </tr>\n",
       "    <tr>\n",
       "      <th>1903-05-01</th>\n",
       "      <td>3-05</td>\n",
       "      <td>401.3</td>\n",
       "      <td>1903-05-01</td>\n",
       "    </tr>\n",
       "    <tr>\n",
       "      <th>1903-06-01</th>\n",
       "      <td>3-06</td>\n",
       "      <td>437.4</td>\n",
       "      <td>1903-06-01</td>\n",
       "    </tr>\n",
       "    <tr>\n",
       "      <th>1903-07-01</th>\n",
       "      <td>3-07</td>\n",
       "      <td>575.5</td>\n",
       "      <td>1903-07-01</td>\n",
       "    </tr>\n",
       "    <tr>\n",
       "      <th>1903-08-01</th>\n",
       "      <td>3-08</td>\n",
       "      <td>407.6</td>\n",
       "      <td>1903-08-01</td>\n",
       "    </tr>\n",
       "    <tr>\n",
       "      <th>1903-09-01</th>\n",
       "      <td>3-09</td>\n",
       "      <td>682.0</td>\n",
       "      <td>1903-09-01</td>\n",
       "    </tr>\n",
       "    <tr>\n",
       "      <th>1903-10-01</th>\n",
       "      <td>3-10</td>\n",
       "      <td>475.3</td>\n",
       "      <td>1903-10-01</td>\n",
       "    </tr>\n",
       "    <tr>\n",
       "      <th>1903-11-01</th>\n",
       "      <td>3-11</td>\n",
       "      <td>581.3</td>\n",
       "      <td>1903-11-01</td>\n",
       "    </tr>\n",
       "    <tr>\n",
       "      <th>1903-12-01</th>\n",
       "      <td>3-12</td>\n",
       "      <td>646.9</td>\n",
       "      <td>1903-12-01</td>\n",
       "    </tr>\n",
       "  </tbody>\n",
       "</table>\n",
       "</div>"
      ],
      "text/plain": [
       "           Month  Sales  TimeIndex\n",
       "1901-01-01  1-01  266.0 1901-01-01\n",
       "1901-02-01  1-02  145.9 1901-02-01\n",
       "1901-03-01  1-03  183.1 1901-03-01\n",
       "1901-04-01  1-04  119.3 1901-04-01\n",
       "1901-05-01  1-05  180.3 1901-05-01\n",
       "1901-06-01  1-06  168.5 1901-06-01\n",
       "1901-07-01  1-07  231.8 1901-07-01\n",
       "1901-08-01  1-08  224.5 1901-08-01\n",
       "1901-09-01  1-09  192.8 1901-09-01\n",
       "1901-10-01  1-10  122.9 1901-10-01\n",
       "1901-11-01  1-11  336.5 1901-11-01\n",
       "1901-12-01  1-12  185.9 1901-12-01\n",
       "1902-01-01  2-01  194.3 1902-01-01\n",
       "1902-02-01  2-02  149.5 1902-02-01\n",
       "1902-03-01  2-03  210.1 1902-03-01\n",
       "1902-04-01  2-04  273.3 1902-04-01\n",
       "1902-05-01  2-05  191.4 1902-05-01\n",
       "1902-06-01  2-06  287.0 1902-06-01\n",
       "1902-07-01  2-07  226.0 1902-07-01\n",
       "1902-08-01  2-08  303.6 1902-08-01\n",
       "1902-09-01  2-09  289.9 1902-09-01\n",
       "1902-10-01  2-10  421.6 1902-10-01\n",
       "1902-11-01  2-11  264.5 1902-11-01\n",
       "1902-12-01  2-12  342.3 1902-12-01\n",
       "1903-01-01  3-01  339.7 1903-01-01\n",
       "1903-02-01  3-02  440.4 1903-02-01\n",
       "1903-03-01  3-03  315.9 1903-03-01\n",
       "1903-04-01  3-04  439.3 1903-04-01\n",
       "1903-05-01  3-05  401.3 1903-05-01\n",
       "1903-06-01  3-06  437.4 1903-06-01\n",
       "1903-07-01  3-07  575.5 1903-07-01\n",
       "1903-08-01  3-08  407.6 1903-08-01\n",
       "1903-09-01  3-09  682.0 1903-09-01\n",
       "1903-10-01  3-10  475.3 1903-10-01\n",
       "1903-11-01  3-11  581.3 1903-11-01\n",
       "1903-12-01  3-12  646.9 1903-12-01"
      ]
     },
     "execution_count": 54,
     "metadata": {},
     "output_type": "execute_result"
    }
   ],
   "source": [
    "a"
   ]
  },
  {
   "cell_type": "code",
   "execution_count": 55,
   "metadata": {},
   "outputs": [
    {
     "data": {
      "text/html": [
       "<div>\n",
       "<style scoped>\n",
       "    .dataframe tbody tr th:only-of-type {\n",
       "        vertical-align: middle;\n",
       "    }\n",
       "\n",
       "    .dataframe tbody tr th {\n",
       "        vertical-align: top;\n",
       "    }\n",
       "\n",
       "    .dataframe thead th {\n",
       "        text-align: right;\n",
       "    }\n",
       "</style>\n",
       "<table border=\"1\" class=\"dataframe\">\n",
       "  <thead>\n",
       "    <tr style=\"text-align: right;\">\n",
       "      <th></th>\n",
       "      <th>Month</th>\n",
       "      <th>Sales</th>\n",
       "      <th>TimeIndex</th>\n",
       "    </tr>\n",
       "  </thead>\n",
       "  <tbody>\n",
       "    <tr>\n",
       "      <th>1901-01-01</th>\n",
       "      <td>1-01</td>\n",
       "      <td>266.0</td>\n",
       "      <td>1901-01-01</td>\n",
       "    </tr>\n",
       "    <tr>\n",
       "      <th>1901-02-01</th>\n",
       "      <td>1-02</td>\n",
       "      <td>145.9</td>\n",
       "      <td>1901-02-01</td>\n",
       "    </tr>\n",
       "    <tr>\n",
       "      <th>1901-03-01</th>\n",
       "      <td>1-03</td>\n",
       "      <td>183.1</td>\n",
       "      <td>1901-03-01</td>\n",
       "    </tr>\n",
       "    <tr>\n",
       "      <th>1901-04-01</th>\n",
       "      <td>1-04</td>\n",
       "      <td>119.3</td>\n",
       "      <td>1901-04-01</td>\n",
       "    </tr>\n",
       "    <tr>\n",
       "      <th>1901-05-01</th>\n",
       "      <td>1-05</td>\n",
       "      <td>180.3</td>\n",
       "      <td>1901-05-01</td>\n",
       "    </tr>\n",
       "  </tbody>\n",
       "</table>\n",
       "</div>"
      ],
      "text/plain": [
       "           Month  Sales  TimeIndex\n",
       "1901-01-01  1-01  266.0 1901-01-01\n",
       "1901-02-01  1-02  145.9 1901-02-01\n",
       "1901-03-01  1-03  183.1 1901-03-01\n",
       "1901-04-01  1-04  119.3 1901-04-01\n",
       "1901-05-01  1-05  180.3 1901-05-01"
      ]
     },
     "execution_count": 55,
     "metadata": {},
     "output_type": "execute_result"
    }
   ],
   "source": [
    "a.head()"
   ]
  },
  {
   "cell_type": "code",
   "execution_count": 12,
   "metadata": {},
   "outputs": [],
   "source": [
    "sales_ts = a['Sales']"
   ]
  },
  {
   "cell_type": "code",
   "execution_count": 13,
   "metadata": {},
   "outputs": [],
   "source": [
    "a[\"Sales\"]=a[\"Sales\"].astype(\"int64\")"
   ]
  },
  {
   "cell_type": "code",
   "execution_count": 14,
   "metadata": {},
   "outputs": [
    {
     "data": {
      "text/html": [
       "<div>\n",
       "<style scoped>\n",
       "    .dataframe tbody tr th:only-of-type {\n",
       "        vertical-align: middle;\n",
       "    }\n",
       "\n",
       "    .dataframe tbody tr th {\n",
       "        vertical-align: top;\n",
       "    }\n",
       "\n",
       "    .dataframe thead th {\n",
       "        text-align: right;\n",
       "    }\n",
       "</style>\n",
       "<table border=\"1\" class=\"dataframe\">\n",
       "  <thead>\n",
       "    <tr style=\"text-align: right;\">\n",
       "      <th></th>\n",
       "      <th>Month</th>\n",
       "      <th>Year</th>\n",
       "      <th>Sales</th>\n",
       "    </tr>\n",
       "  </thead>\n",
       "  <tbody>\n",
       "    <tr>\n",
       "      <th>1901-01-01</th>\n",
       "      <td>Jan</td>\n",
       "      <td>1901</td>\n",
       "      <td>266</td>\n",
       "    </tr>\n",
       "    <tr>\n",
       "      <th>1901-02-01</th>\n",
       "      <td>Feb</td>\n",
       "      <td>1901</td>\n",
       "      <td>145</td>\n",
       "    </tr>\n",
       "    <tr>\n",
       "      <th>1901-03-01</th>\n",
       "      <td>Mar</td>\n",
       "      <td>1901</td>\n",
       "      <td>183</td>\n",
       "    </tr>\n",
       "    <tr>\n",
       "      <th>1901-04-01</th>\n",
       "      <td>Apr</td>\n",
       "      <td>1901</td>\n",
       "      <td>119</td>\n",
       "    </tr>\n",
       "    <tr>\n",
       "      <th>1901-05-01</th>\n",
       "      <td>May</td>\n",
       "      <td>1901</td>\n",
       "      <td>180</td>\n",
       "    </tr>\n",
       "  </tbody>\n",
       "</table>\n",
       "</div>"
      ],
      "text/plain": [
       "           Month  Year  Sales\n",
       "1901-01-01   Jan  1901    266\n",
       "1901-02-01   Feb  1901    145\n",
       "1901-03-01   Mar  1901    183\n",
       "1901-04-01   Apr  1901    119\n",
       "1901-05-01   May  1901    180"
      ]
     },
     "execution_count": 14,
     "metadata": {},
     "output_type": "execute_result"
    }
   ],
   "source": [
    "a.head()"
   ]
  },
  {
   "cell_type": "code",
   "execution_count": 56,
   "metadata": {},
   "outputs": [],
   "source": [
    "train             = a[0:int(len(a)*0.7)] \n",
    "test              =a[int(len(a)*0.7):]"
   ]
  },
  {
   "cell_type": "code",
   "execution_count": 57,
   "metadata": {},
   "outputs": [],
   "source": [
    "import pandas                          as      pd\n",
    "import numpy                           as      np\n",
    "import matplotlib.pyplot               as      plt\n",
    "import statsmodels.tsa.holtwinters     as      ets\n",
    "import statsmodels.tools.eval_measures as      fa\n",
    "from   sklearn.metrics                 import  mean_squared_error\n",
    "from   statsmodels.tsa.holtwinters     import  SimpleExpSmoothing"
   ]
  },
  {
   "cell_type": "code",
   "execution_count": 58,
   "metadata": {},
   "outputs": [],
   "source": [
    "def MAPE(y, yhat): \n",
    "    y, yhat = np.array(y), np.array(yhat)\n",
    "    try:\n",
    "        mape =  round(np.sum(np.abs(yhat - y)) / np.sum(y) * 100,2)\n",
    "    except:\n",
    "        print(\"Observed values are empty\")\n",
    "        mape = np.nan\n",
    "    return mape"
   ]
  },
  {
   "cell_type": "code",
   "execution_count": 59,
   "metadata": {},
   "outputs": [],
   "source": [
    "model = SimpleExpSmoothing(np.asarray(train[\"Sales\"]))"
   ]
  },
  {
   "cell_type": "code",
   "execution_count": 60,
   "metadata": {},
   "outputs": [
    {
     "name": "stdout",
     "output_type": "stream",
     "text": [
      "For alpha = 0.10,  RMSE is 244.8574 MAPE is 44.66\n"
     ]
    },
    {
     "data": {
      "image/png": "[encoded data removed]",
      "text/plain": [
       "<Figure size 1152x576 with 1 Axes>"
      ]
     },
     "metadata": {
      "needs_background": "light"
     },
     "output_type": "display_data"
    },
    {
     "name": "stdout",
     "output_type": "stream",
     "text": [
      "For alpha = 0.50,  RMSE is 192.4813 MAPE is 32.94\n"
     ]
    },
    {
     "data": {
      "image/png": "[encoded data removed]",
      "text/plain": [
       "<Figure size 1152x576 with 1 Axes>"
      ]
     },
     "metadata": {
      "needs_background": "light"
     },
     "output_type": "display_data"
    },
    {
     "name": "stdout",
     "output_type": "stream",
     "text": [
      "For alpha = 0.99,  RMSE is 186.4542 MAPE is 31.72\n"
     ]
    },
    {
     "data": {
      "image/png": "[encoded data removed]",
      "text/plain": [
       "<Figure size 1152x576 with 1 Axes>"
      ]
     },
     "metadata": {
      "needs_background": "light"
     },
     "output_type": "display_data"
    }
   ],
   "source": [
    "alpha_list = [0.1, 0.5, 0.99]\n",
    "\n",
    "pred_SES  = test.copy() # Have a copy of the test dataset\n",
    "\n",
    "for alpha_value in alpha_list:\n",
    "\n",
    "    alpha_str            =  \"SES\" + str(alpha_value)\n",
    "    mode_fit_i           =  model.fit(smoothing_level = alpha_value, optimized=False)\n",
    "    pred_SES[alpha_str]  =  mode_fit_i.forecast(len(test['Sales']))\n",
    "    rmse                 =  np.sqrt(mean_squared_error(test['Sales'], pred_SES[alpha_str]))\n",
    "    mape                 =  MAPE(test['Sales'],pred_SES[alpha_str])\n",
    "###\n",
    "    print(\"For alpha = %1.2f,  RMSE is %3.4f MAPE is %3.2f\" %(alpha_value, rmse, mape))\n",
    "    plt.figure(figsize=(16,8))\n",
    "    plt.plot(train.TimeIndex, train['Sales'], label ='Train')\n",
    "    plt.plot(test.TimeIndex, test['Sales'], label  ='Test')\n",
    "    plt.plot(test.TimeIndex, pred_SES[alpha_str], label  = alpha_str)\n",
    "    plt.title('Simple Exponential Smoothing with alpha ' + str(alpha_value))\n",
    "    plt.legend(loc='best') \n",
    "    plt.show()"
   ]
  },
  {
   "cell_type": "code",
   "execution_count": 61,
   "metadata": {},
   "outputs": [],
   "source": [
    "from   statsmodels.tsa.holtwinters     import  SimpleExpSmoothing, Holt, ExponentialSmoothing"
   ]
  },
  {
   "cell_type": "code",
   "execution_count": 62,
   "metadata": {},
   "outputs": [
    {
     "name": "stdout",
     "output_type": "stream",
     "text": [
      "\n",
      "== Holt-Winters Additive ETS(A,A,A) Parameters ==\n",
      "\n",
      "Smoothing Level:  0.2105\n",
      "Smoothing Slope:  0.2105\n",
      "Smoothing Seasonal:  0.3684\n",
      "Initial Level:  266.6667\n",
      "Initial Slope:  5.5278\n",
      "Initial Seasons:  [  -0.6667 -120.7667  -83.5667 -147.3667  -86.3667  -98.1667  -34.8667\n",
      "  -42.1667  -73.8667 -143.7667   69.8333  -80.7667]\n",
      "\n"
     ]
    }
   ],
   "source": [
    "pred1 = ExponentialSmoothing(np.asarray(a['Sales']), trend='additive', damped=False, seasonal='additive',\n",
    "                                  seasonal_periods = 12).fit() #[:'2017-01-01']\n",
    "print('')\n",
    "print('== Holt-Winters Additive ETS(A,A,A) Parameters ==')\n",
    "print('')\n",
    "alpha_value = np.round(pred1.params['smoothing_level'], 4)\n",
    "print('Smoothing Level: ', alpha_value)\n",
    "print('Smoothing Slope: ', np.round(pred1.params['smoothing_slope'], 4))\n",
    "print('Smoothing Seasonal: ', np.round(pred1.params['smoothing_seasonal'], 4))\n",
    "print('Initial Level: ', np.round(pred1.params['initial_level'], 4))\n",
    "print('Initial Slope: ', np.round(pred1.params['initial_slope'], 4))\n",
    "print('Initial Seasons: ', np.round(pred1.params['initial_seasons'], 4))\n",
    "print('')\n",
    "\n",
    "### Forecast for next 16 months\n",
    "\n"
   ]
  },
  {
   "cell_type": "code",
   "execution_count": 63,
   "metadata": {},
   "outputs": [
    {
     "name": "stdout",
     "output_type": "stream",
     "text": [
      "                 Y_hat      Y\n",
      "1903-02-01  640.554146  440.4\n",
      "1903-03-01  645.332960  315.9\n",
      "1903-04-01  632.906377  439.3\n",
      "1903-05-01  688.654589  401.3\n",
      "1903-06-01  681.111179  437.4\n",
      "1903-07-01  727.239368  575.5\n",
      "1903-08-01  799.361673  407.6\n",
      "1903-09-01  760.459244  682.0\n",
      "1903-10-01  869.656328  475.3\n",
      "1903-11-01  792.351692  581.3\n",
      "1903-12-01  887.191823  646.9\n"
     ]
    }
   ],
   "source": [
    "y_pred1 =  pred1.forecast(steps = 11)\n",
    "df_pred1 = pd.DataFrame({'Y_hat':y_pred1,'Y':test['Sales']})\n",
    "print(df_pred1)"
   ]
  },
  {
   "cell_type": "code",
   "execution_count": 64,
   "metadata": {},
   "outputs": [],
   "source": [
    "import itertools"
   ]
  },
  {
   "cell_type": "code",
   "execution_count": 65,
   "metadata": {},
   "outputs": [],
   "source": [
    "# Define the p, d and q parameters to take any value between 0 and 2\n",
    "p = d = q = range(0, 2)\n",
    "\n",
    "# Generate all different combinations of p, d and q triplets\n",
    "pdq = list(itertools.product(p, d, q))\n",
    "\n",
    "# Generate all different combinations of seasonal p, q and q triplets\n",
    "seasonal_pdq = [(x[0], x[1], x[2], 12) for x in list(itertools.product(p, d, q))]"
   ]
  },
  {
   "cell_type": "code",
   "execution_count": 66,
   "metadata": {},
   "outputs": [],
   "source": [
    "train_log=np.log10(train['Sales'])"
   ]
  },
  {
   "cell_type": "code",
   "execution_count": 67,
   "metadata": {},
   "outputs": [],
   "source": [
    "best_aic = np.inf\n",
    "best_pdq = None\n",
    "best_seasonal_pdq = None\n",
    "temp_model = None"
   ]
  },
  {
   "cell_type": "code",
   "execution_count": 68,
   "metadata": {},
   "outputs": [],
   "source": [
    "import sys\n",
    "import warnings\n",
    "import itertools\n",
    "warnings.filterwarnings(\"ignore\")\n",
    "\n",
    "import pandas as pd\n",
    "import numpy as np\n",
    "\n",
    "import statsmodels.api as sm\n",
    "import statsmodels.tsa.api as smt\n",
    "import statsmodels.formula.api as smf\n",
    "\n",
    "import matplotlib.pyplot as plt\n",
    "%matplotlib inline"
   ]
  },
  {
   "cell_type": "code",
   "execution_count": 69,
   "metadata": {},
   "outputs": [
    {
     "name": "stdout",
     "output_type": "stream",
     "text": [
      "Best SARIMAX(1, 1, 0)x(1, 0, 0, 12)12 model - AIC:-27.06643808651782\n"
     ]
    }
   ],
   "source": [
    "for param in pdq:\n",
    "    for param_seasonal in seasonal_pdq:\n",
    "        \n",
    "        try:\n",
    "            temp_model = sm.tsa.statespace.SARIMAX(train_log,\n",
    "                                             order = param,\n",
    "                                             seasonal_order = param_seasonal,\n",
    "                                             enforce_stationarity=True)\n",
    "            results = temp_model.fit()\n",
    "\n",
    "            \n",
    "            if results.aic < best_aic:\n",
    "                best_aic = results.aic\n",
    "                best_pdq = param\n",
    "                best_seasonal_pdq = param_seasonal\n",
    "        except:\n",
    "            #print(\"Unexpected error:\", sys.exc_info()[0])\n",
    "            continue\n",
    "print(\"Best SARIMAX{}x{}12 model - AIC:{}\".format(best_pdq, best_seasonal_pdq, best_aic))"
   ]
  },
  {
   "cell_type": "code",
   "execution_count": 70,
   "metadata": {},
   "outputs": [],
   "source": [
    "best_model = sm.tsa.statespace.SARIMAX(train_log,\n",
    "                                      order=(0, 1, 1),\n",
    "                                      seasonal_order=(1, 0, 0, 12),\n",
    "                                      enforce_stationarity=True)\n",
    "best_results = best_model.fit()"
   ]
  },
  {
   "cell_type": "code",
   "execution_count": 71,
   "metadata": {},
   "outputs": [
    {
     "name": "stdout",
     "output_type": "stream",
     "text": [
      "                                 Statespace Model Results                                 \n",
      "==========================================================================================\n",
      "Dep. Variable:                              Sales   No. Observations:                   25\n",
      "Model:             SARIMAX(0, 1, 1)x(1, 0, 0, 12)   Log Likelihood                  16.036\n",
      "Date:                            Mon, 20 May 2019   AIC                            -26.072\n",
      "Time:                                    16:54:45   BIC                            -22.538\n",
      "Sample:                                01-01-1901   HQIC                           -25.135\n",
      "                                     - 01-01-1903                                         \n",
      "Covariance Type:                              opg                                         \n",
      "==========================================================================================\n",
      "==============================================================================\n",
      "                 coef    std err          z      P>|z|      [0.025      0.975]\n",
      "------------------------------------------------------------------------------\n",
      "ma.L1         -0.6551      0.273     -2.400      0.016      -1.190      -0.120\n",
      "ar.S.L12      -0.3821      0.257     -1.488      0.137      -0.886       0.121\n",
      "sigma2         0.0139      0.006      2.330      0.020       0.002       0.026\n",
      "==============================================================================\n"
     ]
    }
   ],
   "source": [
    "print(best_results.summary().tables[0])\n",
    "print(best_results.summary().tables[1])"
   ]
  },
  {
   "cell_type": "code",
   "execution_count": 72,
   "metadata": {},
   "outputs": [],
   "source": [
    "pred_dynamic = best_results.get_prediction(start=pd.to_datetime('1910-01-01'), dynamic=True, full_results=True)"
   ]
  },
  {
   "cell_type": "code",
   "execution_count": 73,
   "metadata": {},
   "outputs": [],
   "source": [
    "pred_dynamic_ci = pred_dynamic.conf_int()"
   ]
  },
  {
   "cell_type": "code",
   "execution_count": 74,
   "metadata": {},
   "outputs": [],
   "source": [
    "pred99 = best_results.get_forecast(steps=24, alpha=0.1)"
   ]
  },
  {
   "cell_type": "code",
   "execution_count": 75,
   "metadata": {},
   "outputs": [],
   "source": [
    "# Extract the predicted and true values of our time series\n",
    "sales_ts_forecasted = pred_dynamic.predicted_mean\n",
    "testCopy = test.copy()\n",
    "testCopy['sales_ts_forecasted'] = np.power(10, pred99.predicted_mean)"
   ]
  },
  {
   "cell_type": "code",
   "execution_count": 76,
   "metadata": {},
   "outputs": [
    {
     "data": {
      "text/html": [
       "<div>\n",
       "<style scoped>\n",
       "    .dataframe tbody tr th:only-of-type {\n",
       "        vertical-align: middle;\n",
       "    }\n",
       "\n",
       "    .dataframe tbody tr th {\n",
       "        vertical-align: top;\n",
       "    }\n",
       "\n",
       "    .dataframe thead th {\n",
       "        text-align: right;\n",
       "    }\n",
       "</style>\n",
       "<table border=\"1\" class=\"dataframe\">\n",
       "  <thead>\n",
       "    <tr style=\"text-align: right;\">\n",
       "      <th></th>\n",
       "      <th>Month</th>\n",
       "      <th>Sales</th>\n",
       "      <th>TimeIndex</th>\n",
       "      <th>sales_ts_forecasted</th>\n",
       "    </tr>\n",
       "  </thead>\n",
       "  <tbody>\n",
       "    <tr>\n",
       "      <th>1903-02-01</th>\n",
       "      <td>3-02</td>\n",
       "      <td>440.4</td>\n",
       "      <td>1903-02-01</td>\n",
       "      <td>357.606242</td>\n",
       "    </tr>\n",
       "    <tr>\n",
       "      <th>1903-03-01</th>\n",
       "      <td>3-03</td>\n",
       "      <td>315.9</td>\n",
       "      <td>1903-03-01</td>\n",
       "      <td>314.005920</td>\n",
       "    </tr>\n",
       "    <tr>\n",
       "      <th>1903-04-01</th>\n",
       "      <td>3-04</td>\n",
       "      <td>439.3</td>\n",
       "      <td>1903-04-01</td>\n",
       "      <td>283.986610</td>\n",
       "    </tr>\n",
       "    <tr>\n",
       "      <th>1903-05-01</th>\n",
       "      <td>3-05</td>\n",
       "      <td>401.3</td>\n",
       "      <td>1903-05-01</td>\n",
       "      <td>325.391685</td>\n",
       "    </tr>\n",
       "    <tr>\n",
       "      <th>1903-06-01</th>\n",
       "      <td>3-06</td>\n",
       "      <td>437.4</td>\n",
       "      <td>1903-06-01</td>\n",
       "      <td>278.728506</td>\n",
       "    </tr>\n",
       "    <tr>\n",
       "      <th>1903-07-01</th>\n",
       "      <td>3-07</td>\n",
       "      <td>575.5</td>\n",
       "      <td>1903-07-01</td>\n",
       "      <td>305.374159</td>\n",
       "    </tr>\n",
       "    <tr>\n",
       "      <th>1903-08-01</th>\n",
       "      <td>3-08</td>\n",
       "      <td>407.6</td>\n",
       "      <td>1903-08-01</td>\n",
       "      <td>272.804026</td>\n",
       "    </tr>\n",
       "    <tr>\n",
       "      <th>1903-09-01</th>\n",
       "      <td>3-09</td>\n",
       "      <td>682.0</td>\n",
       "      <td>1903-09-01</td>\n",
       "      <td>277.659831</td>\n",
       "    </tr>\n",
       "    <tr>\n",
       "      <th>1903-10-01</th>\n",
       "      <td>3-10</td>\n",
       "      <td>475.3</td>\n",
       "      <td>1903-10-01</td>\n",
       "      <td>240.638468</td>\n",
       "    </tr>\n",
       "    <tr>\n",
       "      <th>1903-11-01</th>\n",
       "      <td>3-11</td>\n",
       "      <td>581.3</td>\n",
       "      <td>1903-11-01</td>\n",
       "      <td>287.560273</td>\n",
       "    </tr>\n",
       "    <tr>\n",
       "      <th>1903-12-01</th>\n",
       "      <td>3-12</td>\n",
       "      <td>646.9</td>\n",
       "      <td>1903-12-01</td>\n",
       "      <td>260.580478</td>\n",
       "    </tr>\n",
       "  </tbody>\n",
       "</table>\n",
       "</div>"
      ],
      "text/plain": [
       "           Month  Sales  TimeIndex  sales_ts_forecasted\n",
       "1903-02-01  3-02  440.4 1903-02-01           357.606242\n",
       "1903-03-01  3-03  315.9 1903-03-01           314.005920\n",
       "1903-04-01  3-04  439.3 1903-04-01           283.986610\n",
       "1903-05-01  3-05  401.3 1903-05-01           325.391685\n",
       "1903-06-01  3-06  437.4 1903-06-01           278.728506\n",
       "1903-07-01  3-07  575.5 1903-07-01           305.374159\n",
       "1903-08-01  3-08  407.6 1903-08-01           272.804026\n",
       "1903-09-01  3-09  682.0 1903-09-01           277.659831\n",
       "1903-10-01  3-10  475.3 1903-10-01           240.638468\n",
       "1903-11-01  3-11  581.3 1903-11-01           287.560273\n",
       "1903-12-01  3-12  646.9 1903-12-01           260.580478"
      ]
     },
     "execution_count": 76,
     "metadata": {},
     "output_type": "execute_result"
    }
   ],
   "source": [
    "testCopy"
   ]
  },
  {
   "cell_type": "code",
   "execution_count": 77,
   "metadata": {},
   "outputs": [
    {
     "name": "stdout",
     "output_type": "stream",
     "text": [
      "The Root Mean Squared Error of our forecasts is 234.935\n"
     ]
    }
   ],
   "source": [
    "mse = ((testCopy['Sales'] - testCopy['sales_ts_forecasted']) ** 2).mean()\n",
    "rmse = np.sqrt(mse)\n",
    "print('The Root Mean Squared Error of our forecasts is {}'.format(round(rmse, 3)))"
   ]
  },
  {
   "cell_type": "code",
   "execution_count": 79,
   "metadata": {},
   "outputs": [
    {
     "data": {
      "image/png": "[encoded data removed]",
      "text/plain": [
       "<Figure size 720x432 with 1 Axes>"
      ]
     },
     "metadata": {
      "needs_background": "light"
     },
     "output_type": "display_data"
    }
   ],
   "source": [
    "axis = train['Sales'].plot(label='Train Sales', figsize=(10, 6))\n",
    "testCopy['Sales'].plot(ax=axis, label='Test Sales', alpha=0.7)\n",
    "testCopy['sales_ts_forecasted'].plot(ax=axis, label='Forecasted Sales', alpha=0.7)\n",
    "axis.set_xlabel('Years')\n",
    "axis.set_ylabel('Tractor Sales')\n",
    "plt.legend(loc='best')\n",
    "plt.show()\n",
    "plt.close()"
   ]
  },
  {
   "cell_type": "code",
   "execution_count": 80,
   "metadata": {},
   "outputs": [],
   "source": [
    "def MAE(y,yhat):\n",
    "    diff = np.abs(np.array(y)-np.array(yhat))\n",
    "    try:\n",
    "        mae =  round(np.mean(np.fabs(diff)),3)\n",
    "    except:\n",
    "        print(\"Error while calculating\")\n",
    "        mae = np.nan\n",
    "    return mae"
   ]
  },
  {
   "cell_type": "code",
   "execution_count": 81,
   "metadata": {},
   "outputs": [],
   "source": [
    "def MAPE(y, yhat): \n",
    "    y, yhat = np.array(y), np.array(yhat)\n",
    "    try:\n",
    "        mape =  round(np.mean(np.abs((y - yhat) / y)) * 100,2)\n",
    "    except:\n",
    "        print(\"Observed values are empty\")\n",
    "        mape = np.nan\n",
    "    return mape"
   ]
  },
  {
   "cell_type": "code",
   "execution_count": 83,
   "metadata": {},
   "outputs": [
    {
     "data": {
      "image/png": "[encoded data removed]",
      "text/plain": [
       "<Figure size 432x288 with 1 Axes>"
      ]
     },
     "metadata": {
      "needs_background": "light"
     },
     "output_type": "display_data"
    },
    {
     "data": {
      "image/png": "[encoded data removed]",
      "text/plain": [
       "<Figure size 432x288 with 1 Axes>"
      ]
     },
     "metadata": {
      "needs_background": "light"
     },
     "output_type": "display_data"
    }
   ],
   "source": [
    "series       =  pd.read_csv(\"shampoo-sales.csv\", \n",
    "                         header=0, index_col=0, parse_dates=True, squeeze=True) \n",
    "\n",
    "# tail rolling average transform\n",
    "rolling      =  series.rolling(window = 3) # arbitrarily chosen\n",
    "\n",
    "rolling_mean =  rolling.mean()\n",
    "series.plot()\n",
    "\n",
    "rolling_mean.plot(color = 'red')\n",
    "plt.show()\n",
    "\n",
    "# Zoomed plot original and transformed dataset\n",
    "series[:100].plot()\n",
    "rolling_mean[:100].plot(color = 'red')\n",
    "plt.show()"
   ]
  },
  {
   "cell_type": "code",
   "execution_count": 84,
   "metadata": {},
   "outputs": [
    {
     "name": "stdout",
     "output_type": "stream",
     "text": [
      "       Observed   Predicted\n",
      "Month                      \n",
      "3-08      407.6  473.500000\n",
      "3-09      682.0  555.033333\n",
      "3-10      475.3  521.633333\n",
      "3-11      581.3  579.533333\n",
      "3-12      646.9  567.833333\n",
      "\n",
      "\n",
      " Accuracy measures \n",
      "RMSE: 52.329\n",
      "MAE: 41\n",
      "MAPE: 14.210\n"
     ]
    }
   ],
   "source": [
    "y_df = pd.DataFrame( {'Observed':series.values, 'Predicted':rolling_mean})\n",
    "y_df .dropna(axis = 0, inplace = True)\n",
    "print(y_df.tail())\n",
    "\n",
    "rmse = np.sqrt(mean_squared_error(y_df.Observed, y_df.Predicted))\n",
    "print(\"\\n\\n Accuracy measures \")\n",
    "print('RMSE: %.3f' % rmse)\n",
    "n = y_df.shape[0]\n",
    "\n",
    "mae = MAE(y_df.Observed, y_df.Predicted)\n",
    "print('MAE: %d' % np.float(mae))\n",
    "\n",
    "mape = MAPE(y_df.Observed, y_df.Predicted)\n",
    "print('MAPE: %.3f' % np.float(mape))"
   ]
  },
  {
   "cell_type": "code",
   "execution_count": null,
   "metadata": {},
   "outputs": [],
   "source": []
  }
 ],
 "metadata": {
  "kernelspec": {
   "display_name": "Python 3",
   "language": "python",
   "name": "python3"
  },
  "language_info": {
   "codemirror_mode": {
    "name": "ipython",
    "version": 3
   },
   "file_extension": ".py",
   "mimetype": "text/x-python",
   "name": "python",
   "nbconvert_exporter": "python",
   "pygments_lexer": "ipython3",
   "version": "3.7.1"
  }
 },
 "nbformat": 4,
 "nbformat_minor": 2
}
